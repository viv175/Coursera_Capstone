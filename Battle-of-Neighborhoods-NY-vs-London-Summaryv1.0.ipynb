{
 "cells": [
  {
   "cell_type": "markdown",
   "metadata": {},
   "source": [
    "As part of the analysis of neighborhoods in NY and London, we have looked into commercial centres within both these cities. For NY this was Manhattan and for London this was City of London & Westminster. We have completed 2 type of analysis for both location, using the Foresquare API's. The operations conducted were Explore and Search. These analysis can be found in 4 seperate notebooks, 2 each for NY and London respectively. These notebooks will be uploaded."
   ]
  },
  {
   "cell_type": "markdown",
   "metadata": {},
   "source": [
    "Notebooks to be referred to are:\n",
    "\n",
    "NY:\n",
    "1. Battle-of-the-Neighborhoods-New-York-FSQ-Search-py-v1.0.ipynb\n",
    "2. Battle-of-the-Neighborhoods-New-York-FSQ-Explore-py-v1.0.ipynb\n",
    "\n",
    "London:\n",
    "2. Battle-of-the-Neighborhoods-City-of-London-FSQ-Explore-py-v2.0.ipynb\n",
    "4. Battle-of-the-Neighborhoods-City-of-London-FSQ-Search-py-v1.0.ipynb"
   ]
  },
  {
   "cell_type": "markdown",
   "metadata": {},
   "source": [
    "In this notebook we take this one step ahead and compare neighborhoods to identify which ones fit the criteria set"
   ]
  },
  {
   "cell_type": "code",
   "execution_count": 1,
   "metadata": {},
   "outputs": [
    {
     "name": "stdout",
     "output_type": "stream",
     "text": [
      "Requirement already satisfied: geopy in c:\\programdata\\anaconda3\\lib\\site-packages (1.21.0)\n",
      "Requirement already satisfied: geographiclib<2,>=1.49 in c:\\programdata\\anaconda3\\lib\\site-packages (from geopy) (1.50)\n",
      "Requirement already satisfied: folium in c:\\programdata\\anaconda3\\lib\\site-packages (0.10.1)\n",
      "Requirement already satisfied: numpy in c:\\programdata\\anaconda3\\lib\\site-packages (from folium) (1.18.1)\n",
      "Requirement already satisfied: branca>=0.3.0 in c:\\programdata\\anaconda3\\lib\\site-packages (from folium) (0.4.0)\n",
      "Requirement already satisfied: jinja2>=2.9 in c:\\programdata\\anaconda3\\lib\\site-packages (from folium) (2.11.1)\n",
      "Requirement already satisfied: requests in c:\\programdata\\anaconda3\\lib\\site-packages (from folium) (2.22.0)\n",
      "Requirement already satisfied: six in c:\\programdata\\anaconda3\\lib\\site-packages (from branca>=0.3.0->folium) (1.14.0)\n",
      "Requirement already satisfied: MarkupSafe>=0.23 in c:\\programdata\\anaconda3\\lib\\site-packages (from jinja2>=2.9->folium) (1.1.1)\n",
      "Requirement already satisfied: certifi>=2017.4.17 in c:\\programdata\\anaconda3\\lib\\site-packages (from requests->folium) (2019.11.28)\n",
      "Requirement already satisfied: urllib3!=1.25.0,!=1.25.1,<1.26,>=1.21.1 in c:\\programdata\\anaconda3\\lib\\site-packages (from requests->folium) (1.25.8)\n",
      "Requirement already satisfied: chardet<3.1.0,>=3.0.2 in c:\\programdata\\anaconda3\\lib\\site-packages (from requests->folium) (3.0.4)\n",
      "Requirement already satisfied: idna<2.9,>=2.5 in c:\\programdata\\anaconda3\\lib\\site-packages (from requests->folium) (2.8)\n"
     ]
    }
   ],
   "source": [
    "# import libraries\n",
    "import pandas as pd\n",
    "\n",
    "!pip install geopy\n",
    "from geopy.geocoders import Nominatim # convert an address into latitude and longitude values\n",
    "\n",
    "# Matplotlib and associated plotting modules\n",
    "import matplotlib.cm as cm\n",
    "import matplotlib.colors as colors\n",
    "\n",
    "!pip install folium\n",
    "import folium # map rendering library\n"
   ]
  },
  {
   "cell_type": "code",
   "execution_count": 2,
   "metadata": {},
   "outputs": [],
   "source": [
    "# Clusters identified when Manhattan neighborhoods were searched with specific criteria\n",
    "\n",
    "NY_Search_Cluster_1 = set(['Battery Park City', 'Noho', 'Lincoln Square', 'Chinatown', 'Greenwich Village', 'West Village', 'East Village', 'Manhattanville', 'Upper West Side', 'Inwood', 'Morningside Heights', 'Tribeca', 'Central Harlem', 'Clinton', 'Hudson Yards', 'East Harlem', 'Midtown South', 'Sutton Place', 'Soho', 'Chelsea', 'Marble Hill'])\n",
    "NY_Search_Cluster_2 = set(['Murray Hill', 'Gramercy', 'Tudor City', 'Upper East Side'])\n",
    "NY_Search_Cluster_3 = set(['Midtown', 'Flatiron', 'Financial District', 'Civic Center'])\n",
    "NY_Search_Cluster_4 = set(['Yorkville', 'Manhattan Valley', 'Turtle Bay', 'Lenox Hill', 'Stuyvesant Town', 'Washington Heights', 'Carnegie Hill', 'Roosevelt Island', 'Hamilton Heights', 'Lower East Side'])\n",
    "NY_Search_Cluster_5 = set(['Little Italy'])"
   ]
  },
  {
   "cell_type": "code",
   "execution_count": 3,
   "metadata": {},
   "outputs": [],
   "source": [
    "# Clusters identified when Manhattan neighborhoods were Explored and recommended venues were used\n",
    "\n",
    "NY_Explore_Cluster_1 = set(['Lincoln Square', 'Little Italy', 'Manhattan Valley', 'Upper West Side', 'Sutton Place', 'Tribeca', 'Greenwich Village', 'Lenox Hill', 'Manhattanville', 'East Village', 'Chelsea', 'Soho', 'Carnegie Hill', 'Noho', 'West Village', 'Gramercy', 'Turtle Bay', 'Yorkville'])\n",
    "NY_Explore_Cluster_2 = set(['Financial District', 'Roosevelt Island', 'Clinton', 'Flatiron', 'Hudson Yards', 'Lower East Side', 'Battery Park City', 'Upper East Side', 'Chinatown', 'Murray Hill', 'Civic Center', 'Midtown South', 'Central Harlem', 'Midtown'])\n",
    "NY_Explore_Cluster_3 = set(['Stuyvesant Town'])\n",
    "NY_Explore_Cluster_4 = set(['Morningside Heights', 'Tudor City', 'East Harlem', 'Washington Heights', 'Hamilton Heights', 'Inwood'])\n",
    "NY_Explore_Cluster_5 = set(['Marble Hill'])"
   ]
  },
  {
   "cell_type": "code",
   "execution_count": 4,
   "metadata": {},
   "outputs": [],
   "source": [
    "# Clusters identified when  City of London & Westminster neighborhoods were searched with specific criteria\n",
    "\n",
    "LW_Search_Cluster_1 = set(['Mayfair (east), Hanover Square, Savile Row, Royal Academy', 'Tower Hill, Tower of London', \"Broadway, Queen Anne's Gate and Old Queen Street \", 'Mansion House', 'Mayfair (north), Grosvenor Square', \"St Bartholomew's Hospital\", 'Shoreditch', 'Paddington, Bayswater, Hyde Park, Westbourne Green, Little Venice (part), Notting Hill (part)', 'Between Vauxhall Bridge, Grosvenor Bridge and Victoria Station, includes Pimlico', 'Marylebone', 'Charing Cross', 'Notting Hill, Ladbroke Grove (south), Holland Park (part)', 'Soho (north west)', 'Bankside, South Bank, Southwark', 'Barbican', 'Somerset House, Temple (west)', \"Euston, Regent's Park, Baker Street, Camden Town, Somers Town\", 'Great Portland Street, Fitzrovia', 'Harley Street', 'Covent Garden'])\n",
    "LW_Search_Cluster_2 = set([\"St Luke's, Bunhill Fields\", \"Northern 'Victoria' around Buckingham Gate \", 'Drury Lane, Kingsway, Aldwych', \"All but the west of St James's\", 'Blackfriars', 'Temple', \"Lincoln's Inn Fields, Royal Courts of Justice, Chancery Lane\", 'Fetter Lane', 'South or lower Belgravia and Chelsea, from Sloane Square to Victoria Station to Grosvenor Waterside basin', 'Clerkenwell, Farringdon', 'High Holborn', 'Guildhall', 'Old Broad Street, Tower 42', 'St Mary Axe, Aldgate', \"Lloyd's of London, Fenchurch Street\", 'Parliament Square, Nearby Westminster School to Westminster Cathedral to CCAL, University of the Arts, London', 'Bank of England', 'Cannon Street'])\n",
    "LW_Search_Cluster_3 = set(['Oxford Street (west)', 'Mayfair (south), Piccadilly', 'Cornhill, Gracechurch Street, Lombard Street', 'Leicester Square, St. Giles', \"St Paul's\", 'Monument, Billingsgate', \"Whitehall, Buckingham Palace, the Houses of Parliament and west of St James's\", 'Whitechapel, Spitalfields, Shadwell, Limehouse, Stepney, Portsoken'])\n",
    "LW_Search_Cluster_4 = set(['Hatton Garden'])\n",
    "LW_Search_Cluster_5 = set(['Rest of Belgravia (north of Eaton Square), Knightsbridge (eastern half) and Chelsea (a corner)', 'Soho (south east); Chinatown, Soho Square', 'South Kensington district: South Kensington, Knightsbridge (part)', 'Maida Hill district: Maida Hill, Maida Vale, Little Venice (part)', 'Portland Place, Regent Street', \"St John's Wood, Primrose Hill (south), Marylebone (north), Lisson Grove (north)\", \"Kilburn, Brondesbury, West Hampstead, Queen's Park\", \"North Kensington, Kensal Town, Ladbroke Grove (north), Queen's Park (part)\"])\n"
   ]
  },
  {
   "cell_type": "code",
   "execution_count": 5,
   "metadata": {},
   "outputs": [],
   "source": [
    "# Clusters identified when City of London & Westminster neighborhoods were Explored and recommended venues were used\n",
    "\n",
    "LW_Explore_Cluster_1 = set(['Mayfair (south), Piccadilly', 'Harley Street', 'Mayfair (north), Grosvenor Square', 'Marylebone', 'Mayfair (east), Hanover Square, Savile Row, Royal Academy', 'Oxford Street (west)'])\n",
    "LW_Explore_Cluster_2 = set([\"Lloyd's of London, Fenchurch Street\", 'Monument, Billingsgate', 'St Mary Axe, Aldgate', 'Tower Hill, Tower of London'])\n",
    "LW_Explore_Cluster_3 = set(['Soho (north west)', 'Soho (south east); Chinatown, Soho Square', 'Covent Garden', 'Leicester Square, St. Giles', \"All but the west of St James's\", 'Charing Cross', 'Drury Lane, Kingsway, Aldwych', 'Somerset House, Temple (west)'])\n",
    "LW_Explore_Cluster_4 = set([\"St John's Wood, Primrose Hill (south), Marylebone (north), Lisson Grove (north)\", 'Maida Hill district: Maida Hill, Maida Vale, Little Venice (part)', 'South Kensington district: South Kensington, Knightsbridge (part)', \"North Kensington, Kensal Town, Ladbroke Grove (north), Queen's Park (part)\", 'Notting Hill, Ladbroke Grove (south), Holland Park (part)', 'Rest of Belgravia (north of Eaton Square), Knightsbridge (eastern half) and Chelsea (a corner)', 'Paddington, Bayswater, Hyde Park, Westbourne Green, Little Venice (part), Notting Hill (part)', 'Portland Place, Regent Street'])\n",
    "LW_Explore_Cluster_5 = set(['Guildhall', 'Shoreditch', 'Cornhill, Gracechurch Street, Lombard Street', 'Great Portland Street, Fitzrovia', 'Barbican', 'Parliament Square, Nearby Westminster School to Westminster Cathedral to CCAL, University of the Arts, London', 'Cannon Street', 'Bankside, South Bank, Southwark', 'Fetter Lane', \"Whitehall, Buckingham Palace, the Houses of Parliament and west of St James's\", 'Whitechapel, Spitalfields, Shadwell, Limehouse, Stepney, Portsoken', \"St Paul's\", 'South or lower Belgravia and Chelsea, from Sloane Square to Victoria Station to Grosvenor Waterside basin', \"Kilburn, Brondesbury, West Hampstead, Queen's Park\", 'Mansion House', 'Clerkenwell, Farringdon', \"Northern 'Victoria' around Buckingham Gate \", 'Temple', \"Lincoln's Inn Fields, Royal Courts of Justice, Chancery Lane\", \"St Bartholomew's Hospital\", 'Hatton Garden', 'Old Broad Street, Tower 42', \"Broadway, Queen Anne's Gate and Old Queen Street \", 'High Holborn', \"Euston, Regent's Park, Baker Street, Camden Town, Somers Town\", 'Bank of England', 'Between Vauxhall Bridge, Grosvenor Bridge and Victoria Station, includes Pimlico', 'Blackfriars', \"St Luke's, Bunhill Fields\"])\n"
   ]
  },
  {
   "cell_type": "markdown",
   "metadata": {},
   "source": [
    "We analysed the results of the Search query and identified the best fit to the given criteria for each location. These were places with highest residential properties and a good mix of other features mentioned in initial criteria.\n",
    "\n",
    "Selected 'Search' query Clusters within Manhattan area:\n",
    "1. NY_Search_Cluster_1\n",
    "\n",
    "Selected 'Search' query Clusters within within City of London and Westminster area:\n",
    "1. LW_Search_Cluster_1"
   ]
  },
  {
   "cell_type": "code",
   "execution_count": 6,
   "metadata": {},
   "outputs": [
    {
     "name": "stdout",
     "output_type": "stream",
     "text": [
      "NY_Explore_Cluster_1 length: 18 NY_Explore_Cluster_2 length: 14\n",
      "NY_Explore_Cluster_3 length: 1 NY_Explore_Cluster_4 length: 6\n",
      "NY_Explore_Cluster_5 length: 1\n"
     ]
    }
   ],
   "source": [
    "#We then analysed the 'Explore' query result to identify the biggest clusters for each location.\n",
    "\n",
    "print(\"NY_Explore_Cluster_1 length:\", len(NY_Explore_Cluster_1), \"NY_Explore_Cluster_2 length:\", len(NY_Explore_Cluster_2))\n",
    "print(\"NY_Explore_Cluster_3 length:\", len(NY_Explore_Cluster_3), \"NY_Explore_Cluster_4 length:\", len(NY_Explore_Cluster_4))\n",
    "print(\"NY_Explore_Cluster_5 length:\", len(NY_Explore_Cluster_5))"
   ]
  },
  {
   "cell_type": "code",
   "execution_count": 7,
   "metadata": {},
   "outputs": [
    {
     "name": "stdout",
     "output_type": "stream",
     "text": [
      "LW_Explore_Cluster_1 length: 6 LW_Explore_Cluster_2 length: 4\n",
      "LW_Explore_Cluster_3 length: 8 LW_Explore_Cluster_4 length: 8\n",
      "LW_Explore_Cluster_5 length: 29\n"
     ]
    }
   ],
   "source": [
    "print(\"LW_Explore_Cluster_1 length:\", len(LW_Explore_Cluster_1), \"LW_Explore_Cluster_2 length:\", len(LW_Explore_Cluster_2))\n",
    "print(\"LW_Explore_Cluster_3 length:\", len(LW_Explore_Cluster_3), \"LW_Explore_Cluster_4 length:\", len(LW_Explore_Cluster_4))\n",
    "print(\"LW_Explore_Cluster_5 length:\", len(LW_Explore_Cluster_5))"
   ]
  },
  {
   "cell_type": "markdown",
   "metadata": {},
   "source": [
    "Having identified the size of these clusters we will procees finding the intersection between the results between the identified 'Search Query' clusters and the 'Explore Query' clusters. The target is to identify neighborhoods that offer consistent quality of recommended venues as well."
   ]
  },
  {
   "cell_type": "markdown",
   "metadata": {},
   "source": [
    "### Lets analyse the neighborhoods in Manhattan to identify the best neighborhoods for our target audience"
   ]
  },
  {
   "cell_type": "code",
   "execution_count": 8,
   "metadata": {},
   "outputs": [
    {
     "name": "stdout",
     "output_type": "stream",
     "text": [
      "The number of elements in NY Intersection are is:  11\n",
      "Recommended Neighborhoods are:  {'Lincoln Square', 'Sutton Place', 'Greenwich Village', 'East Village', 'Soho', 'Tribeca', 'Manhattanville', 'Upper West Side', 'Noho', 'West Village', 'Chelsea'}\n"
     ]
    }
   ],
   "source": [
    "# intersections between search cluster 2 and explore cluster 1, if neighborhoods are not identified we will explore \n",
    "# intersections with other Explore clusters\n",
    "NY_intersection_1_1 = NY_Search_Cluster_1 & NY_Explore_Cluster_1\n",
    "\n",
    "print(\"The number of elements in NY Intersection are is: \", len(NY_intersection_1_1))\n",
    "print(\"Recommended Neighborhoods are: \", NY_intersection_1_1)"
   ]
  },
  {
   "cell_type": "code",
   "execution_count": 9,
   "metadata": {},
   "outputs": [
    {
     "data": {
      "text/plain": [
       "(40, 4)"
      ]
     },
     "execution_count": 9,
     "metadata": {},
     "output_type": "execute_result"
    }
   ],
   "source": [
    "# instantiate the dataframe\n",
    "manhattan_data = pd.read_csv(\"Manhattan_data.csv\")\n",
    "manhattan_data.drop(\"Unnamed: 0\", axis =1, inplace = True)\n",
    "manhattan_data.shape"
   ]
  },
  {
   "cell_type": "code",
   "execution_count": 10,
   "metadata": {},
   "outputs": [
    {
     "data": {
      "text/html": [
       "<div>\n",
       "<style scoped>\n",
       "    .dataframe tbody tr th:only-of-type {\n",
       "        vertical-align: middle;\n",
       "    }\n",
       "\n",
       "    .dataframe tbody tr th {\n",
       "        vertical-align: top;\n",
       "    }\n",
       "\n",
       "    .dataframe thead th {\n",
       "        text-align: right;\n",
       "    }\n",
       "</style>\n",
       "<table border=\"1\" class=\"dataframe\">\n",
       "  <thead>\n",
       "    <tr style=\"text-align: right;\">\n",
       "      <th></th>\n",
       "      <th>Target Neighborhood</th>\n",
       "    </tr>\n",
       "  </thead>\n",
       "  <tbody>\n",
       "    <tr>\n",
       "      <th>0</th>\n",
       "      <td>Lincoln Square</td>\n",
       "    </tr>\n",
       "    <tr>\n",
       "      <th>1</th>\n",
       "      <td>Sutton Place</td>\n",
       "    </tr>\n",
       "    <tr>\n",
       "      <th>2</th>\n",
       "      <td>Greenwich Village</td>\n",
       "    </tr>\n",
       "    <tr>\n",
       "      <th>3</th>\n",
       "      <td>East Village</td>\n",
       "    </tr>\n",
       "    <tr>\n",
       "      <th>4</th>\n",
       "      <td>Soho</td>\n",
       "    </tr>\n",
       "  </tbody>\n",
       "</table>\n",
       "</div>"
      ],
      "text/plain": [
       "  Target Neighborhood\n",
       "0      Lincoln Square\n",
       "1        Sutton Place\n",
       "2   Greenwich Village\n",
       "3        East Village\n",
       "4                Soho"
      ]
     },
     "execution_count": 10,
     "metadata": {},
     "output_type": "execute_result"
    }
   ],
   "source": [
    "df_NY_target_cluster = pd.DataFrame(NY_intersection_1_1)\n",
    "df_NY_target_cluster.rename(columns={0:'Target Neighborhood'}, inplace = True)\n",
    "df_NY_target_cluster.head()"
   ]
  },
  {
   "cell_type": "code",
   "execution_count": 11,
   "metadata": {},
   "outputs": [
    {
     "name": "stderr",
     "output_type": "stream",
     "text": [
      "C:\\ProgramData\\Anaconda3\\lib\\site-packages\\ipykernel_launcher.py:7: SettingWithCopyWarning: \n",
      "A value is trying to be set on a copy of a slice from a DataFrame\n",
      "\n",
      "See the caveats in the documentation: https://pandas.pydata.org/pandas-docs/stable/user_guide/indexing.html#returning-a-view-versus-a-copy\n",
      "  import sys\n",
      "C:\\ProgramData\\Anaconda3\\lib\\site-packages\\ipykernel_launcher.py:8: SettingWithCopyWarning: \n",
      "A value is trying to be set on a copy of a slice from a DataFrame\n",
      "\n",
      "See the caveats in the documentation: https://pandas.pydata.org/pandas-docs/stable/user_guide/indexing.html#returning-a-view-versus-a-copy\n",
      "  \n"
     ]
    },
    {
     "data": {
      "text/html": [
       "<div>\n",
       "<style scoped>\n",
       "    .dataframe tbody tr th:only-of-type {\n",
       "        vertical-align: middle;\n",
       "    }\n",
       "\n",
       "    .dataframe tbody tr th {\n",
       "        vertical-align: top;\n",
       "    }\n",
       "\n",
       "    .dataframe thead th {\n",
       "        text-align: right;\n",
       "    }\n",
       "</style>\n",
       "<table border=\"1\" class=\"dataframe\">\n",
       "  <thead>\n",
       "    <tr style=\"text-align: right;\">\n",
       "      <th></th>\n",
       "      <th>Target Neighborhood</th>\n",
       "      <th>Latitude</th>\n",
       "      <th>Longitude</th>\n",
       "    </tr>\n",
       "  </thead>\n",
       "  <tbody>\n",
       "    <tr>\n",
       "      <th>0</th>\n",
       "      <td>Lincoln Square</td>\n",
       "      <td>40.773529</td>\n",
       "      <td>-73.985338</td>\n",
       "    </tr>\n",
       "    <tr>\n",
       "      <th>1</th>\n",
       "      <td>Sutton Place</td>\n",
       "      <td>40.760280</td>\n",
       "      <td>-73.963556</td>\n",
       "    </tr>\n",
       "    <tr>\n",
       "      <th>2</th>\n",
       "      <td>Greenwich Village</td>\n",
       "      <td>40.726933</td>\n",
       "      <td>-73.999914</td>\n",
       "    </tr>\n",
       "    <tr>\n",
       "      <th>3</th>\n",
       "      <td>East Village</td>\n",
       "      <td>40.727847</td>\n",
       "      <td>-73.982226</td>\n",
       "    </tr>\n",
       "    <tr>\n",
       "      <th>4</th>\n",
       "      <td>Soho</td>\n",
       "      <td>40.722184</td>\n",
       "      <td>-74.000657</td>\n",
       "    </tr>\n",
       "  </tbody>\n",
       "</table>\n",
       "</div>"
      ],
      "text/plain": [
       "  Target Neighborhood   Latitude  Longitude\n",
       "0      Lincoln Square  40.773529 -73.985338\n",
       "1        Sutton Place  40.760280 -73.963556\n",
       "2   Greenwich Village  40.726933 -73.999914\n",
       "3        East Village  40.727847 -73.982226\n",
       "4                Soho  40.722184 -74.000657"
      ]
     },
     "execution_count": 11,
     "metadata": {},
     "output_type": "execute_result"
    }
   ],
   "source": [
    "df_NY_target_cluster[\"Latitude\"] = float(1)\n",
    "df_NY_target_cluster[\"Longitude\"] = float(1)\n",
    "\n",
    "for index_target in df_NY_target_cluster.index:\n",
    "    for index in manhattan_data.index:\n",
    "        if df_NY_target_cluster[\"Target Neighborhood\"][index_target] == manhattan_data[\"Neighborhood\"][index]:\n",
    "            df_NY_target_cluster[\"Latitude\"][index_target] = manhattan_data[\"Latitude\"][index]\n",
    "            df_NY_target_cluster[\"Longitude\"][index_target] = manhattan_data[\"Longitude\"][index]\n",
    "\n",
    "            \n",
    "df_NY_target_cluster.head()"
   ]
  },
  {
   "cell_type": "code",
   "execution_count": 12,
   "metadata": {},
   "outputs": [
    {
     "name": "stdout",
     "output_type": "stream",
     "text": [
      "The geograpical coordinate of Manhattan are 40.7896239, -73.9598939.\n"
     ]
    }
   ],
   "source": [
    "address = 'Manhattan, NY'\n",
    "\n",
    "geolocator = Nominatim(user_agent=\"ny_explorer\")\n",
    "location = geolocator.geocode(address)\n",
    "latitude = location.latitude\n",
    "longitude = location.longitude\n",
    "print('The geograpical coordinate of Manhattan are {}, {}.'.format(latitude, longitude))"
   ]
  },
  {
   "cell_type": "code",
   "execution_count": 13,
   "metadata": {},
   "outputs": [
    {
     "data": {
      "text/html": [
       "<iframe src=\"about:blank\" width=\"800\" height=\"400\"style=\"border:none !important;\" data-html=PCFET0NUWVBFIGh0bWw+CjxoZWFkPiAgICAKICAgIDxtZXRhIGh0dHAtZXF1aXY9ImNvbnRlbnQtdHlwZSIgY29udGVudD0idGV4dC9odG1sOyBjaGFyc2V0PVVURi04IiAvPgogICAgCiAgICAgICAgPHNjcmlwdD4KICAgICAgICAgICAgTF9OT19UT1VDSCA9IGZhbHNlOwogICAgICAgICAgICBMX0RJU0FCTEVfM0QgPSBmYWxzZTsKICAgICAgICA8L3NjcmlwdD4KICAgIAogICAgPHNjcmlwdCBzcmM9Imh0dHBzOi8vY2RuLmpzZGVsaXZyLm5ldC9ucG0vbGVhZmxldEAxLjUuMS9kaXN0L2xlYWZsZXQuanMiPjwvc2NyaXB0PgogICAgPHNjcmlwdCBzcmM9Imh0dHBzOi8vY29kZS5qcXVlcnkuY29tL2pxdWVyeS0xLjEyLjQubWluLmpzIj48L3NjcmlwdD4KICAgIDxzY3JpcHQgc3JjPSJodHRwczovL21heGNkbi5ib290c3RyYXBjZG4uY29tL2Jvb3RzdHJhcC8zLjIuMC9qcy9ib290c3RyYXAubWluLmpzIj48L3NjcmlwdD4KICAgIDxzY3JpcHQgc3JjPSJodHRwczovL2NkbmpzLmNsb3VkZmxhcmUuY29tL2FqYXgvbGlicy9MZWFmbGV0LmF3ZXNvbWUtbWFya2Vycy8yLjAuMi9sZWFmbGV0LmF3ZXNvbWUtbWFya2Vycy5qcyI+PC9zY3JpcHQ+CiAgICA8bGluayByZWw9InN0eWxlc2hlZXQiIGhyZWY9Imh0dHBzOi8vY2RuLmpzZGVsaXZyLm5ldC9ucG0vbGVhZmxldEAxLjUuMS9kaXN0L2xlYWZsZXQuY3NzIi8+CiAgICA8bGluayByZWw9InN0eWxlc2hlZXQiIGhyZWY9Imh0dHBzOi8vbWF4Y2RuLmJvb3RzdHJhcGNkbi5jb20vYm9vdHN0cmFwLzMuMi4wL2Nzcy9ib290c3RyYXAubWluLmNzcyIvPgogICAgPGxpbmsgcmVsPSJzdHlsZXNoZWV0IiBocmVmPSJodHRwczovL21heGNkbi5ib290c3RyYXBjZG4uY29tL2Jvb3RzdHJhcC8zLjIuMC9jc3MvYm9vdHN0cmFwLXRoZW1lLm1pbi5jc3MiLz4KICAgIDxsaW5rIHJlbD0ic3R5bGVzaGVldCIgaHJlZj0iaHR0cHM6Ly9tYXhjZG4uYm9vdHN0cmFwY2RuLmNvbS9mb250LWF3ZXNvbWUvNC42LjMvY3NzL2ZvbnQtYXdlc29tZS5taW4uY3NzIi8+CiAgICA8bGluayByZWw9InN0eWxlc2hlZXQiIGhyZWY9Imh0dHBzOi8vY2RuanMuY2xvdWRmbGFyZS5jb20vYWpheC9saWJzL0xlYWZsZXQuYXdlc29tZS1tYXJrZXJzLzIuMC4yL2xlYWZsZXQuYXdlc29tZS1tYXJrZXJzLmNzcyIvPgogICAgPGxpbmsgcmVsPSJzdHlsZXNoZWV0IiBocmVmPSJodHRwczovL3Jhd2Nkbi5naXRoYWNrLmNvbS9weXRob24tdmlzdWFsaXphdGlvbi9mb2xpdW0vbWFzdGVyL2ZvbGl1bS90ZW1wbGF0ZXMvbGVhZmxldC5hd2Vzb21lLnJvdGF0ZS5jc3MiLz4KICAgIDxzdHlsZT5odG1sLCBib2R5IHt3aWR0aDogMTAwJTtoZWlnaHQ6IDEwMCU7bWFyZ2luOiAwO3BhZGRpbmc6IDA7fTwvc3R5bGU+CiAgICA8c3R5bGU+I21hcCB7cG9zaXRpb246YWJzb2x1dGU7dG9wOjA7Ym90dG9tOjA7cmlnaHQ6MDtsZWZ0OjA7fTwvc3R5bGU+CiAgICAKICAgICAgICAgICAgPG1ldGEgbmFtZT0idmlld3BvcnQiIGNvbnRlbnQ9IndpZHRoPWRldmljZS13aWR0aCwKICAgICAgICAgICAgICAgIGluaXRpYWwtc2NhbGU9MS4wLCBtYXhpbXVtLXNjYWxlPTEuMCwgdXNlci1zY2FsYWJsZT1ubyIgLz4KICAgICAgICAgICAgPHN0eWxlPgogICAgICAgICAgICAgICAgI21hcF9mMTBkYjZmMGFmOWE0YzA5YmZiMmIyYjlhNTJlNjUyMCB7CiAgICAgICAgICAgICAgICAgICAgcG9zaXRpb246IHJlbGF0aXZlOwogICAgICAgICAgICAgICAgICAgIHdpZHRoOiAxMDAuMCU7CiAgICAgICAgICAgICAgICAgICAgaGVpZ2h0OiAxMDAuMCU7CiAgICAgICAgICAgICAgICAgICAgbGVmdDogMC4wJTsKICAgICAgICAgICAgICAgICAgICB0b3A6IDAuMCU7CiAgICAgICAgICAgICAgICB9CiAgICAgICAgICAgIDwvc3R5bGU+CiAgICAgICAgCjwvaGVhZD4KPGJvZHk+ICAgIAogICAgCiAgICAgICAgICAgIDxkaXYgY2xhc3M9ImZvbGl1bS1tYXAiIGlkPSJtYXBfZjEwZGI2ZjBhZjlhNGMwOWJmYjJiMmI5YTUyZTY1MjAiID48L2Rpdj4KICAgICAgICAKPC9ib2R5Pgo8c2NyaXB0PiAgICAKICAgIAogICAgICAgICAgICB2YXIgbWFwX2YxMGRiNmYwYWY5YTRjMDliZmIyYjJiOWE1MmU2NTIwID0gTC5tYXAoCiAgICAgICAgICAgICAgICAibWFwX2YxMGRiNmYwYWY5YTRjMDliZmIyYjJiOWE1MmU2NTIwIiwKICAgICAgICAgICAgICAgIHsKICAgICAgICAgICAgICAgICAgICBjZW50ZXI6IFs0MC43ODk2MjM5LCAtNzMuOTU5ODkzOV0sCiAgICAgICAgICAgICAgICAgICAgY3JzOiBMLkNSUy5FUFNHMzg1NywKICAgICAgICAgICAgICAgICAgICB6b29tOiAxMSwKICAgICAgICAgICAgICAgICAgICB6b29tQ29udHJvbDogdHJ1ZSwKICAgICAgICAgICAgICAgICAgICBwcmVmZXJDYW52YXM6IGZhbHNlLAogICAgICAgICAgICAgICAgfQogICAgICAgICAgICApOwoKICAgICAgICAgICAgCgogICAgICAgIAogICAgCiAgICAgICAgICAgIHZhciB0aWxlX2xheWVyX2IyZTY4ZjBjMTgzMjRhMmFhNTJkZGRhZDJjNzg4ZGJiID0gTC50aWxlTGF5ZXIoCiAgICAgICAgICAgICAgICAiaHR0cHM6Ly97c30udGlsZS5vcGVuc3RyZWV0bWFwLm9yZy97en0ve3h9L3t5fS5wbmciLAogICAgICAgICAgICAgICAgeyJhdHRyaWJ1dGlvbiI6ICJEYXRhIGJ5IFx1MDAyNmNvcHk7IFx1MDAzY2EgaHJlZj1cImh0dHA6Ly9vcGVuc3RyZWV0bWFwLm9yZ1wiXHUwMDNlT3BlblN0cmVldE1hcFx1MDAzYy9hXHUwMDNlLCB1bmRlciBcdTAwM2NhIGhyZWY9XCJodHRwOi8vd3d3Lm9wZW5zdHJlZXRtYXAub3JnL2NvcHlyaWdodFwiXHUwMDNlT0RiTFx1MDAzYy9hXHUwMDNlLiIsICJkZXRlY3RSZXRpbmEiOiBmYWxzZSwgIm1heE5hdGl2ZVpvb20iOiAxOCwgIm1heFpvb20iOiAxOCwgIm1pblpvb20iOiAwLCAibm9XcmFwIjogZmFsc2UsICJvcGFjaXR5IjogMSwgInN1YmRvbWFpbnMiOiAiYWJjIiwgInRtcyI6IGZhbHNlfQogICAgICAgICAgICApLmFkZFRvKG1hcF9mMTBkYjZmMGFmOWE0YzA5YmZiMmIyYjlhNTJlNjUyMCk7CiAgICAgICAgCiAgICAKICAgICAgICAgICAgdmFyIGNpcmNsZV9tYXJrZXJfNzViZWQ0YzVlZmY2NGYyMDhhOTAwZTY3MmMyNmJjNjQgPSBMLmNpcmNsZU1hcmtlcigKICAgICAgICAgICAgICAgIFs0MC43NzM1Mjg4ODk0MjE2NTUsIC03My45ODUzMzc3NzAwMTI2Ml0sCiAgICAgICAgICAgICAgICB7ImJ1YmJsaW5nTW91c2VFdmVudHMiOiB0cnVlLCAiY29sb3IiOiAiYmx1ZSIsICJkYXNoQXJyYXkiOiBudWxsLCAiZGFzaE9mZnNldCI6IG51bGwsICJmaWxsIjogdHJ1ZSwgImZpbGxDb2xvciI6ICIjMzE4NmNjIiwgImZpbGxPcGFjaXR5IjogMC43LCAiZmlsbFJ1bGUiOiAiZXZlbm9kZCIsICJsaW5lQ2FwIjogInJvdW5kIiwgImxpbmVKb2luIjogInJvdW5kIiwgIm9wYWNpdHkiOiAxLjAsICJyYWRpdXMiOiA1LCAic3Ryb2tlIjogdHJ1ZSwgIndlaWdodCI6IDN9CiAgICAgICAgICAgICkuYWRkVG8obWFwX2YxMGRiNmYwYWY5YTRjMDliZmIyYjJiOWE1MmU2NTIwKTsKICAgICAgICAKICAgIAogICAgICAgIHZhciBwb3B1cF82MDA1MTg5OGJiNTE0M2I3ODI5MjQ4NTk3YTViODg1NCA9IEwucG9wdXAoeyJtYXhXaWR0aCI6ICIxMDAlIn0pOwoKICAgICAgICAKICAgICAgICAgICAgdmFyIGh0bWxfMDZmZGE3NWY2YzU4NDc1MDgwY2QxOTRhNjM1YTUwYzMgPSAkKGA8ZGl2IGlkPSJodG1sXzA2ZmRhNzVmNmM1ODQ3NTA4MGNkMTk0YTYzNWE1MGMzIiBzdHlsZT0id2lkdGg6IDEwMC4wJTsgaGVpZ2h0OiAxMDAuMCU7Ij5MaW5jb2xuIFNxdWFyZTwvZGl2PmApWzBdOwogICAgICAgICAgICBwb3B1cF82MDA1MTg5OGJiNTE0M2I3ODI5MjQ4NTk3YTViODg1NC5zZXRDb250ZW50KGh0bWxfMDZmZGE3NWY2YzU4NDc1MDgwY2QxOTRhNjM1YTUwYzMpOwogICAgICAgIAoKICAgICAgICBjaXJjbGVfbWFya2VyXzc1YmVkNGM1ZWZmNjRmMjA4YTkwMGU2NzJjMjZiYzY0LmJpbmRQb3B1cChwb3B1cF82MDA1MTg5OGJiNTE0M2I3ODI5MjQ4NTk3YTViODg1NCkKICAgICAgICA7CgogICAgICAgIAogICAgCiAgICAKICAgICAgICAgICAgdmFyIGNpcmNsZV9tYXJrZXJfNjAzZjk4MzJhMjAwNDc5M2FlNjU5NzdmN2VlZjM3YjQgPSBMLmNpcmNsZU1hcmtlcigKICAgICAgICAgICAgICAgIFs0MC43NjAyODAzMzEzMTM3NDQsIC03My45NjM1NTYxNDA5NDMwM10sCiAgICAgICAgICAgICAgICB7ImJ1YmJsaW5nTW91c2VFdmVudHMiOiB0cnVlLCAiY29sb3IiOiAiYmx1ZSIsICJkYXNoQXJyYXkiOiBudWxsLCAiZGFzaE9mZnNldCI6IG51bGwsICJmaWxsIjogdHJ1ZSwgImZpbGxDb2xvciI6ICIjMzE4NmNjIiwgImZpbGxPcGFjaXR5IjogMC43LCAiZmlsbFJ1bGUiOiAiZXZlbm9kZCIsICJsaW5lQ2FwIjogInJvdW5kIiwgImxpbmVKb2luIjogInJvdW5kIiwgIm9wYWNpdHkiOiAxLjAsICJyYWRpdXMiOiA1LCAic3Ryb2tlIjogdHJ1ZSwgIndlaWdodCI6IDN9CiAgICAgICAgICAgICkuYWRkVG8obWFwX2YxMGRiNmYwYWY5YTRjMDliZmIyYjJiOWE1MmU2NTIwKTsKICAgICAgICAKICAgIAogICAgICAgIHZhciBwb3B1cF8xYmNlYjYzYjhmODU0MDllOGU2MTNkNmM4NGM5MDk3NSA9IEwucG9wdXAoeyJtYXhXaWR0aCI6ICIxMDAlIn0pOwoKICAgICAgICAKICAgICAgICAgICAgdmFyIGh0bWxfYjQyZDY0YmZkYzdjNDc1MTk0MGNjZWQwZGEwN2FhMGIgPSAkKGA8ZGl2IGlkPSJodG1sX2I0MmQ2NGJmZGM3YzQ3NTE5NDBjY2VkMGRhMDdhYTBiIiBzdHlsZT0id2lkdGg6IDEwMC4wJTsgaGVpZ2h0OiAxMDAuMCU7Ij5TdXR0b24gUGxhY2U8L2Rpdj5gKVswXTsKICAgICAgICAgICAgcG9wdXBfMWJjZWI2M2I4Zjg1NDA5ZThlNjEzZDZjODRjOTA5NzUuc2V0Q29udGVudChodG1sX2I0MmQ2NGJmZGM3YzQ3NTE5NDBjY2VkMGRhMDdhYTBiKTsKICAgICAgICAKCiAgICAgICAgY2lyY2xlX21hcmtlcl82MDNmOTgzMmEyMDA0NzkzYWU2NTk3N2Y3ZWVmMzdiNC5iaW5kUG9wdXAocG9wdXBfMWJjZWI2M2I4Zjg1NDA5ZThlNjEzZDZjODRjOTA5NzUpCiAgICAgICAgOwoKICAgICAgICAKICAgIAogICAgCiAgICAgICAgICAgIHZhciBjaXJjbGVfbWFya2VyXzM5YjZiMjAxZDQ2ODRhODdiZjU1MmYwNzJmYWZkNjBhID0gTC5jaXJjbGVNYXJrZXIoCiAgICAgICAgICAgICAgICBbNDAuNzI2OTMyODg1MzYxMjgsIC03My45OTk5MTQwMjk0NTkwMl0sCiAgICAgICAgICAgICAgICB7ImJ1YmJsaW5nTW91c2VFdmVudHMiOiB0cnVlLCAiY29sb3IiOiAiYmx1ZSIsICJkYXNoQXJyYXkiOiBudWxsLCAiZGFzaE9mZnNldCI6IG51bGwsICJmaWxsIjogdHJ1ZSwgImZpbGxDb2xvciI6ICIjMzE4NmNjIiwgImZpbGxPcGFjaXR5IjogMC43LCAiZmlsbFJ1bGUiOiAiZXZlbm9kZCIsICJsaW5lQ2FwIjogInJvdW5kIiwgImxpbmVKb2luIjogInJvdW5kIiwgIm9wYWNpdHkiOiAxLjAsICJyYWRpdXMiOiA1LCAic3Ryb2tlIjogdHJ1ZSwgIndlaWdodCI6IDN9CiAgICAgICAgICAgICkuYWRkVG8obWFwX2YxMGRiNmYwYWY5YTRjMDliZmIyYjJiOWE1MmU2NTIwKTsKICAgICAgICAKICAgIAogICAgICAgIHZhciBwb3B1cF84ZTc2NDBkMjUyNjc0NGExYjc2NDhkODQ2MDUwNjNmZiA9IEwucG9wdXAoeyJtYXhXaWR0aCI6ICIxMDAlIn0pOwoKICAgICAgICAKICAgICAgICAgICAgdmFyIGh0bWxfMDJhMDAzNTJhNWY1NDdiOGE0OTc5YzIzYzI2MzNkM2QgPSAkKGA8ZGl2IGlkPSJodG1sXzAyYTAwMzUyYTVmNTQ3YjhhNDk3OWMyM2MyNjMzZDNkIiBzdHlsZT0id2lkdGg6IDEwMC4wJTsgaGVpZ2h0OiAxMDAuMCU7Ij5HcmVlbndpY2ggVmlsbGFnZTwvZGl2PmApWzBdOwogICAgICAgICAgICBwb3B1cF84ZTc2NDBkMjUyNjc0NGExYjc2NDhkODQ2MDUwNjNmZi5zZXRDb250ZW50KGh0bWxfMDJhMDAzNTJhNWY1NDdiOGE0OTc5YzIzYzI2MzNkM2QpOwogICAgICAgIAoKICAgICAgICBjaXJjbGVfbWFya2VyXzM5YjZiMjAxZDQ2ODRhODdiZjU1MmYwNzJmYWZkNjBhLmJpbmRQb3B1cChwb3B1cF84ZTc2NDBkMjUyNjc0NGExYjc2NDhkODQ2MDUwNjNmZikKICAgICAgICA7CgogICAgICAgIAogICAgCiAgICAKICAgICAgICAgICAgdmFyIGNpcmNsZV9tYXJrZXJfMThmYTk5NjgyMzJjNGZmOGFhYTI1MjZiOWY2ZjIyYTQgPSBMLmNpcmNsZU1hcmtlcigKICAgICAgICAgICAgICAgIFs0MC43Mjc4NDY3NzcyNzAyNDQsIC03My45ODIyMjYxNjUwNjQxNV0sCiAgICAgICAgICAgICAgICB7ImJ1YmJsaW5nTW91c2VFdmVudHMiOiB0cnVlLCAiY29sb3IiOiAiYmx1ZSIsICJkYXNoQXJyYXkiOiBudWxsLCAiZGFzaE9mZnNldCI6IG51bGwsICJmaWxsIjogdHJ1ZSwgImZpbGxDb2xvciI6ICIjMzE4NmNjIiwgImZpbGxPcGFjaXR5IjogMC43LCAiZmlsbFJ1bGUiOiAiZXZlbm9kZCIsICJsaW5lQ2FwIjogInJvdW5kIiwgImxpbmVKb2luIjogInJvdW5kIiwgIm9wYWNpdHkiOiAxLjAsICJyYWRpdXMiOiA1LCAic3Ryb2tlIjogdHJ1ZSwgIndlaWdodCI6IDN9CiAgICAgICAgICAgICkuYWRkVG8obWFwX2YxMGRiNmYwYWY5YTRjMDliZmIyYjJiOWE1MmU2NTIwKTsKICAgICAgICAKICAgIAogICAgICAgIHZhciBwb3B1cF8wYjQ3MDY0ODNlODI0NzdhOTBhNTczOGYyYjVlMmJiNSA9IEwucG9wdXAoeyJtYXhXaWR0aCI6ICIxMDAlIn0pOwoKICAgICAgICAKICAgICAgICAgICAgdmFyIGh0bWxfOGQ5ZTBjY2JhZjEyNDdhNTllY2M0MWM5N2VkNGEyMjMgPSAkKGA8ZGl2IGlkPSJodG1sXzhkOWUwY2NiYWYxMjQ3YTU5ZWNjNDFjOTdlZDRhMjIzIiBzdHlsZT0id2lkdGg6IDEwMC4wJTsgaGVpZ2h0OiAxMDAuMCU7Ij5FYXN0IFZpbGxhZ2U8L2Rpdj5gKVswXTsKICAgICAgICAgICAgcG9wdXBfMGI0NzA2NDgzZTgyNDc3YTkwYTU3MzhmMmI1ZTJiYjUuc2V0Q29udGVudChodG1sXzhkOWUwY2NiYWYxMjQ3YTU5ZWNjNDFjOTdlZDRhMjIzKTsKICAgICAgICAKCiAgICAgICAgY2lyY2xlX21hcmtlcl8xOGZhOTk2ODIzMmM0ZmY4YWFhMjUyNmI5ZjZmMjJhNC5iaW5kUG9wdXAocG9wdXBfMGI0NzA2NDgzZTgyNDc3YTkwYTU3MzhmMmI1ZTJiYjUpCiAgICAgICAgOwoKICAgICAgICAKICAgIAogICAgCiAgICAgICAgICAgIHZhciBjaXJjbGVfbWFya2VyX2VlY2U2Yjk2NDFiNjQ0NGRiZDNiZDIwMmQyOTJjNDk0ID0gTC5jaXJjbGVNYXJrZXIoCiAgICAgICAgICAgICAgICBbNDAuNzIyMTgzODQxMzE3OTQsIC03NC4wMDA2NTY2Njk1OTc2XSwKICAgICAgICAgICAgICAgIHsiYnViYmxpbmdNb3VzZUV2ZW50cyI6IHRydWUsICJjb2xvciI6ICJibHVlIiwgImRhc2hBcnJheSI6IG51bGwsICJkYXNoT2Zmc2V0IjogbnVsbCwgImZpbGwiOiB0cnVlLCAiZmlsbENvbG9yIjogIiMzMTg2Y2MiLCAiZmlsbE9wYWNpdHkiOiAwLjcsICJmaWxsUnVsZSI6ICJldmVub2RkIiwgImxpbmVDYXAiOiAicm91bmQiLCAibGluZUpvaW4iOiAicm91bmQiLCAib3BhY2l0eSI6IDEuMCwgInJhZGl1cyI6IDUsICJzdHJva2UiOiB0cnVlLCAid2VpZ2h0IjogM30KICAgICAgICAgICAgKS5hZGRUbyhtYXBfZjEwZGI2ZjBhZjlhNGMwOWJmYjJiMmI5YTUyZTY1MjApOwogICAgICAgIAogICAgCiAgICAgICAgdmFyIHBvcHVwXzVkY2Y1ZDQzZDJkZDRlMThiNjkxZjQ2NWViNjUwMDA0ID0gTC5wb3B1cCh7Im1heFdpZHRoIjogIjEwMCUifSk7CgogICAgICAgIAogICAgICAgICAgICB2YXIgaHRtbF80MzFkZjgzZWZjYzI0NzljOWY5MWVlZGJkNTU1NmNhNyA9ICQoYDxkaXYgaWQ9Imh0bWxfNDMxZGY4M2VmY2MyNDc5YzlmOTFlZWRiZDU1NTZjYTciIHN0eWxlPSJ3aWR0aDogMTAwLjAlOyBoZWlnaHQ6IDEwMC4wJTsiPlNvaG88L2Rpdj5gKVswXTsKICAgICAgICAgICAgcG9wdXBfNWRjZjVkNDNkMmRkNGUxOGI2OTFmNDY1ZWI2NTAwMDQuc2V0Q29udGVudChodG1sXzQzMWRmODNlZmNjMjQ3OWM5ZjkxZWVkYmQ1NTU2Y2E3KTsKICAgICAgICAKCiAgICAgICAgY2lyY2xlX21hcmtlcl9lZWNlNmI5NjQxYjY0NDRkYmQzYmQyMDJkMjkyYzQ5NC5iaW5kUG9wdXAocG9wdXBfNWRjZjVkNDNkMmRkNGUxOGI2OTFmNDY1ZWI2NTAwMDQpCiAgICAgICAgOwoKICAgICAgICAKICAgIAogICAgCiAgICAgICAgICAgIHZhciBjaXJjbGVfbWFya2VyX2Y2YzJmYjAxNzgzNjQxYTQ4YWZhZDgwYTZiN2UxZGU4ID0gTC5jaXJjbGVNYXJrZXIoCiAgICAgICAgICAgICAgICBbNDAuNzIxNTIxOTY3NDQzMjE2LCAtNzQuMDEwNjgzMjg1NTkwODddLAogICAgICAgICAgICAgICAgeyJidWJibGluZ01vdXNlRXZlbnRzIjogdHJ1ZSwgImNvbG9yIjogImJsdWUiLCAiZGFzaEFycmF5IjogbnVsbCwgImRhc2hPZmZzZXQiOiBudWxsLCAiZmlsbCI6IHRydWUsICJmaWxsQ29sb3IiOiAiIzMxODZjYyIsICJmaWxsT3BhY2l0eSI6IDAuNywgImZpbGxSdWxlIjogImV2ZW5vZGQiLCAibGluZUNhcCI6ICJyb3VuZCIsICJsaW5lSm9pbiI6ICJyb3VuZCIsICJvcGFjaXR5IjogMS4wLCAicmFkaXVzIjogNSwgInN0cm9rZSI6IHRydWUsICJ3ZWlnaHQiOiAzfQogICAgICAgICAgICApLmFkZFRvKG1hcF9mMTBkYjZmMGFmOWE0YzA5YmZiMmIyYjlhNTJlNjUyMCk7CiAgICAgICAgCiAgICAKICAgICAgICB2YXIgcG9wdXBfMjcxY2IzOTcxNzM3NDQzYWIxMTYyZjJkYzJjZGM0MzQgPSBMLnBvcHVwKHsibWF4V2lkdGgiOiAiMTAwJSJ9KTsKCiAgICAgICAgCiAgICAgICAgICAgIHZhciBodG1sX2JmZmZkNTMyYTQ4NDQyMTZhZDVmNThmY2Y1OTY1M2FmID0gJChgPGRpdiBpZD0iaHRtbF9iZmZmZDUzMmE0ODQ0MjE2YWQ1ZjU4ZmNmNTk2NTNhZiIgc3R5bGU9IndpZHRoOiAxMDAuMCU7IGhlaWdodDogMTAwLjAlOyI+VHJpYmVjYTwvZGl2PmApWzBdOwogICAgICAgICAgICBwb3B1cF8yNzFjYjM5NzE3Mzc0NDNhYjExNjJmMmRjMmNkYzQzNC5zZXRDb250ZW50KGh0bWxfYmZmZmQ1MzJhNDg0NDIxNmFkNWY1OGZjZjU5NjUzYWYpOwogICAgICAgIAoKICAgICAgICBjaXJjbGVfbWFya2VyX2Y2YzJmYjAxNzgzNjQxYTQ4YWZhZDgwYTZiN2UxZGU4LmJpbmRQb3B1cChwb3B1cF8yNzFjYjM5NzE3Mzc0NDNhYjExNjJmMmRjMmNkYzQzNCkKICAgICAgICA7CgogICAgICAgIAogICAgCiAgICAKICAgICAgICAgICAgdmFyIGNpcmNsZV9tYXJrZXJfNWQ3NjYzYzYyZGI2NGJlYjkxYzdiMjAxOTcwYjExZWQgPSBMLmNpcmNsZU1hcmtlcigKICAgICAgICAgICAgICAgIFs0MC44MTY5MzQ0Mjk0OTc3OSwgLTczLjk1NzM4NTM5MzUxODhdLAogICAgICAgICAgICAgICAgeyJidWJibGluZ01vdXNlRXZlbnRzIjogdHJ1ZSwgImNvbG9yIjogImJsdWUiLCAiZGFzaEFycmF5IjogbnVsbCwgImRhc2hPZmZzZXQiOiBudWxsLCAiZmlsbCI6IHRydWUsICJmaWxsQ29sb3IiOiAiIzMxODZjYyIsICJmaWxsT3BhY2l0eSI6IDAuNywgImZpbGxSdWxlIjogImV2ZW5vZGQiLCAibGluZUNhcCI6ICJyb3VuZCIsICJsaW5lSm9pbiI6ICJyb3VuZCIsICJvcGFjaXR5IjogMS4wLCAicmFkaXVzIjogNSwgInN0cm9rZSI6IHRydWUsICJ3ZWlnaHQiOiAzfQogICAgICAgICAgICApLmFkZFRvKG1hcF9mMTBkYjZmMGFmOWE0YzA5YmZiMmIyYjlhNTJlNjUyMCk7CiAgICAgICAgCiAgICAKICAgICAgICB2YXIgcG9wdXBfMGI4ZTJlOTIzNDNjNGE1Mzg1M2IxNmQ4NTU1YTg1OGMgPSBMLnBvcHVwKHsibWF4V2lkdGgiOiAiMTAwJSJ9KTsKCiAgICAgICAgCiAgICAgICAgICAgIHZhciBodG1sXzFhYmIyMDM2YzM0ZDRmYTI5ZTlhOWFiZDg4Yjc4MTZhID0gJChgPGRpdiBpZD0iaHRtbF8xYWJiMjAzNmMzNGQ0ZmEyOWU5YTlhYmQ4OGI3ODE2YSIgc3R5bGU9IndpZHRoOiAxMDAuMCU7IGhlaWdodDogMTAwLjAlOyI+TWFuaGF0dGFudmlsbGU8L2Rpdj5gKVswXTsKICAgICAgICAgICAgcG9wdXBfMGI4ZTJlOTIzNDNjNGE1Mzg1M2IxNmQ4NTU1YTg1OGMuc2V0Q29udGVudChodG1sXzFhYmIyMDM2YzM0ZDRmYTI5ZTlhOWFiZDg4Yjc4MTZhKTsKICAgICAgICAKCiAgICAgICAgY2lyY2xlX21hcmtlcl81ZDc2NjNjNjJkYjY0YmViOTFjN2IyMDE5NzBiMTFlZC5iaW5kUG9wdXAocG9wdXBfMGI4ZTJlOTIzNDNjNGE1Mzg1M2IxNmQ4NTU1YTg1OGMpCiAgICAgICAgOwoKICAgICAgICAKICAgIAogICAgCiAgICAgICAgICAgIHZhciBjaXJjbGVfbWFya2VyXzdmN2E4NzNlODdhNDQyNjZhMDNjMzk5ZmIyOThmNGY3ID0gTC5jaXJjbGVNYXJrZXIoCiAgICAgICAgICAgICAgICBbNDAuNzg3NjU3OTk4NTM0ODU0LCAtNzMuOTc3MDU5MjM2MzA2MDNdLAogICAgICAgICAgICAgICAgeyJidWJibGluZ01vdXNlRXZlbnRzIjogdHJ1ZSwgImNvbG9yIjogImJsdWUiLCAiZGFzaEFycmF5IjogbnVsbCwgImRhc2hPZmZzZXQiOiBudWxsLCAiZmlsbCI6IHRydWUsICJmaWxsQ29sb3IiOiAiIzMxODZjYyIsICJmaWxsT3BhY2l0eSI6IDAuNywgImZpbGxSdWxlIjogImV2ZW5vZGQiLCAibGluZUNhcCI6ICJyb3VuZCIsICJsaW5lSm9pbiI6ICJyb3VuZCIsICJvcGFjaXR5IjogMS4wLCAicmFkaXVzIjogNSwgInN0cm9rZSI6IHRydWUsICJ3ZWlnaHQiOiAzfQogICAgICAgICAgICApLmFkZFRvKG1hcF9mMTBkYjZmMGFmOWE0YzA5YmZiMmIyYjlhNTJlNjUyMCk7CiAgICAgICAgCiAgICAKICAgICAgICB2YXIgcG9wdXBfYjg5Mzc5YTQ0ZTRhNDJmNmIyMzZlYmNiNzg3Y2YzNmUgPSBMLnBvcHVwKHsibWF4V2lkdGgiOiAiMTAwJSJ9KTsKCiAgICAgICAgCiAgICAgICAgICAgIHZhciBodG1sXzc4YjcyMjRkNDFjMzQ0NDJiMmZkNzk5NzkwM2IyNmY4ID0gJChgPGRpdiBpZD0iaHRtbF83OGI3MjI0ZDQxYzM0NDQyYjJmZDc5OTc5MDNiMjZmOCIgc3R5bGU9IndpZHRoOiAxMDAuMCU7IGhlaWdodDogMTAwLjAlOyI+VXBwZXIgV2VzdCBTaWRlPC9kaXY+YClbMF07CiAgICAgICAgICAgIHBvcHVwX2I4OTM3OWE0NGU0YTQyZjZiMjM2ZWJjYjc4N2NmMzZlLnNldENvbnRlbnQoaHRtbF83OGI3MjI0ZDQxYzM0NDQyYjJmZDc5OTc5MDNiMjZmOCk7CiAgICAgICAgCgogICAgICAgIGNpcmNsZV9tYXJrZXJfN2Y3YTg3M2U4N2E0NDI2NmEwM2MzOTlmYjI5OGY0ZjcuYmluZFBvcHVwKHBvcHVwX2I4OTM3OWE0NGU0YTQyZjZiMjM2ZWJjYjc4N2NmMzZlKQogICAgICAgIDsKCiAgICAgICAgCiAgICAKICAgIAogICAgICAgICAgICB2YXIgY2lyY2xlX21hcmtlcl8wYWU5ZWFkYTM1YjY0OTM5YjFkYzQzMzVlNzQxM2E3NSA9IEwuY2lyY2xlTWFya2VyKAogICAgICAgICAgICAgICAgWzQwLjcyMzI1OTAxODg1NzY4LCAtNzMuOTg4NDMzNjgwMjM1OTddLAogICAgICAgICAgICAgICAgeyJidWJibGluZ01vdXNlRXZlbnRzIjogdHJ1ZSwgImNvbG9yIjogImJsdWUiLCAiZGFzaEFycmF5IjogbnVsbCwgImRhc2hPZmZzZXQiOiBudWxsLCAiZmlsbCI6IHRydWUsICJmaWxsQ29sb3IiOiAiIzMxODZjYyIsICJmaWxsT3BhY2l0eSI6IDAuNywgImZpbGxSdWxlIjogImV2ZW5vZGQiLCAibGluZUNhcCI6ICJyb3VuZCIsICJsaW5lSm9pbiI6ICJyb3VuZCIsICJvcGFjaXR5IjogMS4wLCAicmFkaXVzIjogNSwgInN0cm9rZSI6IHRydWUsICJ3ZWlnaHQiOiAzfQogICAgICAgICAgICApLmFkZFRvKG1hcF9mMTBkYjZmMGFmOWE0YzA5YmZiMmIyYjlhNTJlNjUyMCk7CiAgICAgICAgCiAgICAKICAgICAgICB2YXIgcG9wdXBfZTkzYTRjM2M5MGM0NDg0OWE3ODc1Mzg1MTg2MTY3NDAgPSBMLnBvcHVwKHsibWF4V2lkdGgiOiAiMTAwJSJ9KTsKCiAgICAgICAgCiAgICAgICAgICAgIHZhciBodG1sXzVjNjZlZGNhMmE5NTRlYTRhOTczNmU1NDQ1NmU5ZjhkID0gJChgPGRpdiBpZD0iaHRtbF81YzY2ZWRjYTJhOTU0ZWE0YTk3MzZlNTQ0NTZlOWY4ZCIgc3R5bGU9IndpZHRoOiAxMDAuMCU7IGhlaWdodDogMTAwLjAlOyI+Tm9obzwvZGl2PmApWzBdOwogICAgICAgICAgICBwb3B1cF9lOTNhNGMzYzkwYzQ0ODQ5YTc4NzUzODUxODYxNjc0MC5zZXRDb250ZW50KGh0bWxfNWM2NmVkY2EyYTk1NGVhNGE5NzM2ZTU0NDU2ZTlmOGQpOwogICAgICAgIAoKICAgICAgICBjaXJjbGVfbWFya2VyXzBhZTllYWRhMzViNjQ5MzliMWRjNDMzNWU3NDEzYTc1LmJpbmRQb3B1cChwb3B1cF9lOTNhNGMzYzkwYzQ0ODQ5YTc4NzUzODUxODYxNjc0MCkKICAgICAgICA7CgogICAgICAgIAogICAgCiAgICAKICAgICAgICAgICAgdmFyIGNpcmNsZV9tYXJrZXJfMTljZmFlYTkyYTc5NGM5ZmFhMDg4NzlkYWQ2ZmY5YzYgPSBMLmNpcmNsZU1hcmtlcigKICAgICAgICAgICAgICAgIFs0MC43MzQ0MzM5MzU3MjQzNSwgLTc0LjAwNjE3OTk4MTI2ODEzXSwKICAgICAgICAgICAgICAgIHsiYnViYmxpbmdNb3VzZUV2ZW50cyI6IHRydWUsICJjb2xvciI6ICJibHVlIiwgImRhc2hBcnJheSI6IG51bGwsICJkYXNoT2Zmc2V0IjogbnVsbCwgImZpbGwiOiB0cnVlLCAiZmlsbENvbG9yIjogIiMzMTg2Y2MiLCAiZmlsbE9wYWNpdHkiOiAwLjcsICJmaWxsUnVsZSI6ICJldmVub2RkIiwgImxpbmVDYXAiOiAicm91bmQiLCAibGluZUpvaW4iOiAicm91bmQiLCAib3BhY2l0eSI6IDEuMCwgInJhZGl1cyI6IDUsICJzdHJva2UiOiB0cnVlLCAid2VpZ2h0IjogM30KICAgICAgICAgICAgKS5hZGRUbyhtYXBfZjEwZGI2ZjBhZjlhNGMwOWJmYjJiMmI5YTUyZTY1MjApOwogICAgICAgIAogICAgCiAgICAgICAgdmFyIHBvcHVwXzA4NmE4ZDU3ZTllOTQxNzg4YmJhOTA2YWI5OTI1N2I1ID0gTC5wb3B1cCh7Im1heFdpZHRoIjogIjEwMCUifSk7CgogICAgICAgIAogICAgICAgICAgICB2YXIgaHRtbF8wZmE3MDczOTkxYzM0NjVmODgzODk0YmFmZGVjMWM0ZSA9ICQoYDxkaXYgaWQ9Imh0bWxfMGZhNzA3Mzk5MWMzNDY1Zjg4Mzg5NGJhZmRlYzFjNGUiIHN0eWxlPSJ3aWR0aDogMTAwLjAlOyBoZWlnaHQ6IDEwMC4wJTsiPldlc3QgVmlsbGFnZTwvZGl2PmApWzBdOwogICAgICAgICAgICBwb3B1cF8wODZhOGQ1N2U5ZTk0MTc4OGJiYTkwNmFiOTkyNTdiNS5zZXRDb250ZW50KGh0bWxfMGZhNzA3Mzk5MWMzNDY1Zjg4Mzg5NGJhZmRlYzFjNGUpOwogICAgICAgIAoKICAgICAgICBjaXJjbGVfbWFya2VyXzE5Y2ZhZWE5MmE3OTRjOWZhYTA4ODc5ZGFkNmZmOWM2LmJpbmRQb3B1cChwb3B1cF8wODZhOGQ1N2U5ZTk0MTc4OGJiYTkwNmFiOTkyNTdiNSkKICAgICAgICA7CgogICAgICAgIAogICAgCiAgICAKICAgICAgICAgICAgdmFyIGNpcmNsZV9tYXJrZXJfZGZkYWZlOTYzNWEyNGZiMWE1MDlmNzliNGVjMTAzYjMgPSBMLmNpcmNsZU1hcmtlcigKICAgICAgICAgICAgICAgIFs0MC43NDQwMzQ3MDY3NDc5NzUsIC03NC4wMDMxMTYzMzQ3MjgxM10sCiAgICAgICAgICAgICAgICB7ImJ1YmJsaW5nTW91c2VFdmVudHMiOiB0cnVlLCAiY29sb3IiOiAiYmx1ZSIsICJkYXNoQXJyYXkiOiBudWxsLCAiZGFzaE9mZnNldCI6IG51bGwsICJmaWxsIjogdHJ1ZSwgImZpbGxDb2xvciI6ICIjMzE4NmNjIiwgImZpbGxPcGFjaXR5IjogMC43LCAiZmlsbFJ1bGUiOiAiZXZlbm9kZCIsICJsaW5lQ2FwIjogInJvdW5kIiwgImxpbmVKb2luIjogInJvdW5kIiwgIm9wYWNpdHkiOiAxLjAsICJyYWRpdXMiOiA1LCAic3Ryb2tlIjogdHJ1ZSwgIndlaWdodCI6IDN9CiAgICAgICAgICAgICkuYWRkVG8obWFwX2YxMGRiNmYwYWY5YTRjMDliZmIyYjJiOWE1MmU2NTIwKTsKICAgICAgICAKICAgIAogICAgICAgIHZhciBwb3B1cF9iNTExNzY5MjY1MTY0NmMxYjg4NzNlZDk3OTc5Y2Y1OCA9IEwucG9wdXAoeyJtYXhXaWR0aCI6ICIxMDAlIn0pOwoKICAgICAgICAKICAgICAgICAgICAgdmFyIGh0bWxfZGYyYzc4MDlmYzMyNGI4NGEzOWJmYTVlNmEwMTQxYTkgPSAkKGA8ZGl2IGlkPSJodG1sX2RmMmM3ODA5ZmMzMjRiODRhMzliZmE1ZTZhMDE0MWE5IiBzdHlsZT0id2lkdGg6IDEwMC4wJTsgaGVpZ2h0OiAxMDAuMCU7Ij5DaGVsc2VhPC9kaXY+YClbMF07CiAgICAgICAgICAgIHBvcHVwX2I1MTE3NjkyNjUxNjQ2YzFiODg3M2VkOTc5NzljZjU4LnNldENvbnRlbnQoaHRtbF9kZjJjNzgwOWZjMzI0Yjg0YTM5YmZhNWU2YTAxNDFhOSk7CiAgICAgICAgCgogICAgICAgIGNpcmNsZV9tYXJrZXJfZGZkYWZlOTYzNWEyNGZiMWE1MDlmNzliNGVjMTAzYjMuYmluZFBvcHVwKHBvcHVwX2I1MTE3NjkyNjUxNjQ2YzFiODg3M2VkOTc5NzljZjU4KQogICAgICAgIDsKCiAgICAgICAgCiAgICAKPC9zY3JpcHQ+ onload=\"this.contentDocument.open();this.contentDocument.write(atob(this.getAttribute('data-html')));this.contentDocument.close();\" \"allowfullscreen\" \"webkitallowfullscreen\" \"mozallowfullscreen\"></iframe>"
      ],
      "text/plain": [
       "<folium.folium.Map at 0x1ca1965c408>"
      ]
     },
     "execution_count": 13,
     "metadata": {},
     "output_type": "execute_result"
    }
   ],
   "source": [
    "# create map of Manhattan using latitude and longitude values\n",
    "f = folium.Figure(width=800, height=400)\n",
    "map_manhattan = folium.Map(location=[latitude, longitude], zoom_start=11).add_to(f)\n",
    "\n",
    "# add markers to map\n",
    "for lat, lng, label in zip(df_NY_target_cluster['Latitude'], df_NY_target_cluster['Longitude'],df_NY_target_cluster['Target Neighborhood']):\n",
    "    label = folium.Popup(label, parse_html=True)\n",
    "    folium.CircleMarker(\n",
    "        [lat, lng],\n",
    "        radius=5,\n",
    "        popup=label,\n",
    "        color='blue',\n",
    "        fill=True,\n",
    "        fill_color='#3186cc',\n",
    "        fill_opacity=0.7,\n",
    "        parse_html=False).add_to(map_manhattan)  \n",
    "    \n",
    "map_manhattan"
   ]
  },
  {
   "cell_type": "markdown",
   "metadata": {},
   "source": [
    "### Lets analyse the neighborhoods in City of London & Westminster to identify the best neighborhoods for our target audience"
   ]
  },
  {
   "cell_type": "code",
   "execution_count": 14,
   "metadata": {},
   "outputs": [
    {
     "name": "stdout",
     "output_type": "stream",
     "text": [
      "The number of elements in LW Intersection are is:  9\n",
      "Recommended Neighborhoods are:  {'Barbican', 'Between Vauxhall Bridge, Grosvenor Bridge and Victoria Station, includes Pimlico', \"St Bartholomew's Hospital\", 'Shoreditch', 'Mansion House', \"Broadway, Queen Anne's Gate and Old Queen Street \", 'Great Portland Street, Fitzrovia', \"Euston, Regent's Park, Baker Street, Camden Town, Somers Town\", 'Bankside, South Bank, Southwark'}\n"
     ]
    }
   ],
   "source": [
    "# intersections between search cluster 2 and explore cluster 5, if neighborhoods are not identified we will explore \n",
    "# intersections with other Explore clusters\n",
    "LW_intersection_1_5 = LW_Search_Cluster_1 & LW_Explore_Cluster_5\n",
    "\n",
    "print(\"The number of elements in LW Intersection are is: \", len(LW_intersection_1_5))\n",
    "print(\"Recommended Neighborhoods are: \", LW_intersection_1_5)"
   ]
  },
  {
   "cell_type": "code",
   "execution_count": 15,
   "metadata": {},
   "outputs": [
    {
     "data": {
      "text/html": [
       "<div>\n",
       "<style scoped>\n",
       "    .dataframe tbody tr th:only-of-type {\n",
       "        vertical-align: middle;\n",
       "    }\n",
       "\n",
       "    .dataframe tbody tr th {\n",
       "        vertical-align: top;\n",
       "    }\n",
       "\n",
       "    .dataframe thead th {\n",
       "        text-align: right;\n",
       "    }\n",
       "</style>\n",
       "<table border=\"1\" class=\"dataframe\">\n",
       "  <thead>\n",
       "    <tr style=\"text-align: right;\">\n",
       "      <th></th>\n",
       "      <th>Postcode</th>\n",
       "      <th>Borough</th>\n",
       "      <th>Neighborhood</th>\n",
       "      <th>Latitute</th>\n",
       "      <th>Longitute</th>\n",
       "    </tr>\n",
       "  </thead>\n",
       "  <tbody>\n",
       "    <tr>\n",
       "      <th>0</th>\n",
       "      <td>EC1A</td>\n",
       "      <td>City of London, Islington</td>\n",
       "      <td>St Bartholomew's Hospital</td>\n",
       "      <td>51.5183</td>\n",
       "      <td>-0.0991</td>\n",
       "    </tr>\n",
       "    <tr>\n",
       "      <th>1</th>\n",
       "      <td>EC1M</td>\n",
       "      <td>Islington, Camden, City of London</td>\n",
       "      <td>Clerkenwell, Farringdon</td>\n",
       "      <td>51.5209</td>\n",
       "      <td>-0.1006</td>\n",
       "    </tr>\n",
       "    <tr>\n",
       "      <th>2</th>\n",
       "      <td>EC1N</td>\n",
       "      <td>Camden, City of London</td>\n",
       "      <td>Hatton Garden</td>\n",
       "      <td>51.5196</td>\n",
       "      <td>-0.1079</td>\n",
       "    </tr>\n",
       "    <tr>\n",
       "      <th>3</th>\n",
       "      <td>EC1Y</td>\n",
       "      <td>Islington, City of London</td>\n",
       "      <td>St Luke's, Bunhill Fields</td>\n",
       "      <td>51.5235</td>\n",
       "      <td>-0.0903</td>\n",
       "    </tr>\n",
       "    <tr>\n",
       "      <th>4</th>\n",
       "      <td>EC2A</td>\n",
       "      <td>Islington, Hackney, City of London</td>\n",
       "      <td>Shoreditch</td>\n",
       "      <td>51.5242</td>\n",
       "      <td>-0.0807</td>\n",
       "    </tr>\n",
       "  </tbody>\n",
       "</table>\n",
       "</div>"
      ],
      "text/plain": [
       "  Postcode                             Borough               Neighborhood  \\\n",
       "0     EC1A           City of London, Islington  St Bartholomew's Hospital   \n",
       "1     EC1M   Islington, Camden, City of London    Clerkenwell, Farringdon   \n",
       "2     EC1N              Camden, City of London              Hatton Garden   \n",
       "3     EC1Y           Islington, City of London  St Luke's, Bunhill Fields   \n",
       "4     EC2A  Islington, Hackney, City of London                 Shoreditch   \n",
       "\n",
       "   Latitute  Longitute  \n",
       "0   51.5183    -0.0991  \n",
       "1   51.5209    -0.1006  \n",
       "2   51.5196    -0.1079  \n",
       "3   51.5235    -0.0903  \n",
       "4   51.5242    -0.0807  "
      ]
     },
     "execution_count": 15,
     "metadata": {},
     "output_type": "execute_result"
    }
   ],
   "source": [
    "df_City_Lon_West = pd.read_csv(\"Lon_West_Postcodes_v1.csv\")\n",
    "df_City_Lon_West.head()"
   ]
  },
  {
   "cell_type": "code",
   "execution_count": 16,
   "metadata": {},
   "outputs": [
    {
     "data": {
      "text/plain": [
       "(59, 5)"
      ]
     },
     "execution_count": 16,
     "metadata": {},
     "output_type": "execute_result"
    }
   ],
   "source": [
    "df_City_Lon_West.shape"
   ]
  },
  {
   "cell_type": "code",
   "execution_count": 17,
   "metadata": {},
   "outputs": [
    {
     "data": {
      "text/html": [
       "<div>\n",
       "<style scoped>\n",
       "    .dataframe tbody tr th:only-of-type {\n",
       "        vertical-align: middle;\n",
       "    }\n",
       "\n",
       "    .dataframe tbody tr th {\n",
       "        vertical-align: top;\n",
       "    }\n",
       "\n",
       "    .dataframe thead th {\n",
       "        text-align: right;\n",
       "    }\n",
       "</style>\n",
       "<table border=\"1\" class=\"dataframe\">\n",
       "  <thead>\n",
       "    <tr style=\"text-align: right;\">\n",
       "      <th></th>\n",
       "      <th>Target Neighborhood</th>\n",
       "    </tr>\n",
       "  </thead>\n",
       "  <tbody>\n",
       "    <tr>\n",
       "      <th>0</th>\n",
       "      <td>Barbican</td>\n",
       "    </tr>\n",
       "    <tr>\n",
       "      <th>1</th>\n",
       "      <td>Between Vauxhall Bridge, Grosvenor Bridge and ...</td>\n",
       "    </tr>\n",
       "    <tr>\n",
       "      <th>2</th>\n",
       "      <td>St Bartholomew's Hospital</td>\n",
       "    </tr>\n",
       "    <tr>\n",
       "      <th>3</th>\n",
       "      <td>Shoreditch</td>\n",
       "    </tr>\n",
       "    <tr>\n",
       "      <th>4</th>\n",
       "      <td>Mansion House</td>\n",
       "    </tr>\n",
       "  </tbody>\n",
       "</table>\n",
       "</div>"
      ],
      "text/plain": [
       "                                 Target Neighborhood\n",
       "0                                           Barbican\n",
       "1  Between Vauxhall Bridge, Grosvenor Bridge and ...\n",
       "2                          St Bartholomew's Hospital\n",
       "3                                         Shoreditch\n",
       "4                                      Mansion House"
      ]
     },
     "execution_count": 17,
     "metadata": {},
     "output_type": "execute_result"
    }
   ],
   "source": [
    "df_LW_target_cluster = pd.DataFrame(LW_intersection_1_5)\n",
    "df_LW_target_cluster.rename(columns={0:'Target Neighborhood'}, inplace = True)\n",
    "df_LW_target_cluster.head()"
   ]
  },
  {
   "cell_type": "code",
   "execution_count": 18,
   "metadata": {},
   "outputs": [
    {
     "name": "stderr",
     "output_type": "stream",
     "text": [
      "C:\\ProgramData\\Anaconda3\\lib\\site-packages\\ipykernel_launcher.py:7: SettingWithCopyWarning: \n",
      "A value is trying to be set on a copy of a slice from a DataFrame\n",
      "\n",
      "See the caveats in the documentation: https://pandas.pydata.org/pandas-docs/stable/user_guide/indexing.html#returning-a-view-versus-a-copy\n",
      "  import sys\n",
      "C:\\ProgramData\\Anaconda3\\lib\\site-packages\\ipykernel_launcher.py:8: SettingWithCopyWarning: \n",
      "A value is trying to be set on a copy of a slice from a DataFrame\n",
      "\n",
      "See the caveats in the documentation: https://pandas.pydata.org/pandas-docs/stable/user_guide/indexing.html#returning-a-view-versus-a-copy\n",
      "  \n"
     ]
    },
    {
     "data": {
      "text/html": [
       "<div>\n",
       "<style scoped>\n",
       "    .dataframe tbody tr th:only-of-type {\n",
       "        vertical-align: middle;\n",
       "    }\n",
       "\n",
       "    .dataframe tbody tr th {\n",
       "        vertical-align: top;\n",
       "    }\n",
       "\n",
       "    .dataframe thead th {\n",
       "        text-align: right;\n",
       "    }\n",
       "</style>\n",
       "<table border=\"1\" class=\"dataframe\">\n",
       "  <thead>\n",
       "    <tr style=\"text-align: right;\">\n",
       "      <th></th>\n",
       "      <th>Target Neighborhood</th>\n",
       "      <th>Latitude</th>\n",
       "      <th>Longitude</th>\n",
       "    </tr>\n",
       "  </thead>\n",
       "  <tbody>\n",
       "    <tr>\n",
       "      <th>0</th>\n",
       "      <td>Barbican</td>\n",
       "      <td>51.5196</td>\n",
       "      <td>-0.091700</td>\n",
       "    </tr>\n",
       "    <tr>\n",
       "      <th>1</th>\n",
       "      <td>Between Vauxhall Bridge, Grosvenor Bridge and ...</td>\n",
       "      <td>51.4954</td>\n",
       "      <td>-0.141729</td>\n",
       "    </tr>\n",
       "    <tr>\n",
       "      <th>2</th>\n",
       "      <td>St Bartholomew's Hospital</td>\n",
       "      <td>51.5183</td>\n",
       "      <td>-0.099100</td>\n",
       "    </tr>\n",
       "    <tr>\n",
       "      <th>3</th>\n",
       "      <td>Shoreditch</td>\n",
       "      <td>51.5242</td>\n",
       "      <td>-0.080700</td>\n",
       "    </tr>\n",
       "    <tr>\n",
       "      <th>4</th>\n",
       "      <td>Mansion House</td>\n",
       "      <td>51.5120</td>\n",
       "      <td>-0.088400</td>\n",
       "    </tr>\n",
       "  </tbody>\n",
       "</table>\n",
       "</div>"
      ],
      "text/plain": [
       "                                 Target Neighborhood  Latitude  Longitude\n",
       "0                                           Barbican   51.5196  -0.091700\n",
       "1  Between Vauxhall Bridge, Grosvenor Bridge and ...   51.4954  -0.141729\n",
       "2                          St Bartholomew's Hospital   51.5183  -0.099100\n",
       "3                                         Shoreditch   51.5242  -0.080700\n",
       "4                                      Mansion House   51.5120  -0.088400"
      ]
     },
     "execution_count": 18,
     "metadata": {},
     "output_type": "execute_result"
    }
   ],
   "source": [
    "df_LW_target_cluster[\"Latitude\"] = float(1)\n",
    "df_LW_target_cluster[\"Longitude\"] = float(1)\n",
    "\n",
    "for index_target in df_LW_target_cluster.index:\n",
    "    for index in df_City_Lon_West.index:\n",
    "        if df_LW_target_cluster[\"Target Neighborhood\"][index_target] == df_City_Lon_West[\"Neighborhood\"][index]:\n",
    "            df_LW_target_cluster[\"Latitude\"][index_target] = df_City_Lon_West[\"Latitute\"][index]\n",
    "            df_LW_target_cluster[\"Longitude\"][index_target] = df_City_Lon_West[\"Longitute\"][index]\n",
    "\n",
    "            \n",
    "df_LW_target_cluster.head()"
   ]
  },
  {
   "cell_type": "code",
   "execution_count": 19,
   "metadata": {},
   "outputs": [
    {
     "name": "stdout",
     "output_type": "stream",
     "text": [
      "The geograpical coordinate of City of London are 51.5073219, -0.1276474.\n"
     ]
    }
   ],
   "source": [
    "address = 'London, UK'\n",
    "\n",
    "geolocator = Nominatim(user_agent=\"London_explorer\")\n",
    "location = geolocator.geocode(address)\n",
    "latitude = location.latitude\n",
    "longitude = location.longitude\n",
    "print('The geograpical coordinate of City of London are {}, {}.'.format(latitude, longitude))"
   ]
  },
  {
   "cell_type": "code",
   "execution_count": 20,
   "metadata": {},
   "outputs": [
    {
     "data": {
      "text/html": [
       "<iframe src=\"about:blank\" width=\"800\" height=\"400\"style=\"border:none !important;\" data-html=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 onload=\"this.contentDocument.open();this.contentDocument.write(atob(this.getAttribute('data-html')));this.contentDocument.close();\" \"allowfullscreen\" \"webkitallowfullscreen\" \"mozallowfullscreen\"></iframe>"
      ],
      "text/plain": [
       "<folium.folium.Map at 0x1ca165b9688>"
      ]
     },
     "execution_count": 20,
     "metadata": {},
     "output_type": "execute_result"
    }
   ],
   "source": [
    "# create map of City of London using latitude and longitude values\n",
    "f = folium.Figure(width=800, height=400)\n",
    "map_city_of_london = folium.Map(location=[latitude, longitude], zoom_start=11).add_to(f)\n",
    "\n",
    "# add markers to map\n",
    "for lat, lng, label in zip(df_LW_target_cluster['Latitude'], df_LW_target_cluster['Longitude'], df_LW_target_cluster['Target Neighborhood']):\n",
    "    label = folium.Popup(label, parse_html=True)\n",
    "    folium.CircleMarker(\n",
    "        [lat, lng],\n",
    "        radius=5,\n",
    "        popup=label,\n",
    "        color='blue',\n",
    "        fill=True,\n",
    "        fill_color='#3186cc',\n",
    "        fill_opacity=0.7,\n",
    "        parse_html=False).add_to(map_city_of_london)  \n",
    "    \n",
    "map_city_of_london"
   ]
  },
  {
   "cell_type": "markdown",
   "metadata": {},
   "source": [
    "This brings us to an end of the project, we have successfully recommended specific neighborhoods"
   ]
  }
 ],
 "metadata": {
  "kernelspec": {
   "display_name": "Python 3",
   "language": "python",
   "name": "python3"
  },
  "language_info": {
   "codemirror_mode": {
    "name": "ipython",
    "version": 3
   },
   "file_extension": ".py",
   "mimetype": "text/x-python",
   "name": "python",
   "nbconvert_exporter": "python",
   "pygments_lexer": "ipython3",
   "version": "3.7.6"
  }
 },
 "nbformat": 4,
 "nbformat_minor": 4
}
